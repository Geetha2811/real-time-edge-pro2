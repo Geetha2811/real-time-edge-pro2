{
 "cells": [
  {
   "cell_type": "code",
   "execution_count": 1,
   "id": "feac8b8a-5495-4d7d-be5c-affaf2aafbdc",
   "metadata": {},
   "outputs": [],
   "source": [
    "import cv2"
   ]
  },
  {
   "cell_type": "code",
   "execution_count": 2,
   "id": "09dcf901-2613-4c2e-bf0a-6d4c5b9b5975",
   "metadata": {},
   "outputs": [],
   "source": [
    "cap = cv2.VideoCapture(0)"
   ]
  },
  {
   "cell_type": "code",
   "execution_count": 3,
   "id": "da700c81-b1dc-4fac-b4fa-0a4b7ba11e84",
   "metadata": {},
   "outputs": [],
   "source": [
    "while(True):\n",
    "    ret, frame = cap.read()\n",
    "    if not ret:\n",
    "        break\n",
    "    \n",
    "    gray = cv2.cvtColor(frame, cv2.COLOR_BGR2GRAY)\n",
    "    \n",
    "    sobelx = cv2.Sobel(gray, cv2.CV_64F, 1, 0, ksize=5)\n",
    "    sobely = cv2.Sobel(gray, cv2.CV_64F, 0, 1, ksize=5)\n",
    "    sobel_combined = cv2.sqrt(cv2.addWeighted(sobelx, 0.5, sobely, 0.5, 0))\n",
    "    \n",
    "    laplacian = cv2.Laplacian(gray, cv2.CV_64F)\n",
    "    \n",
    "    cv2.imshow('Original', frame)\n",
    "    cv2.imshow('Sobel Edge Detection', sobel_combined)\n",
    "    cv2.imshow('Laplacian Edge Detection', laplacian)\n",
    "    \n",
    "    if cv2.waitKey(1) & 0xFF == ord('q'):\n",
    "        break\n",
    "\n",
    "cap.release()\n",
    "cv2.destroyAllWindows()"
   ]
  },
  {
   "cell_type": "code",
   "execution_count": null,
   "id": "8acc7e87-19d0-47fc-9c74-1fe7cbf453d7",
   "metadata": {},
   "outputs": [],
   "source": []
  }
 ],
 "metadata": {
  "kernelspec": {
   "display_name": "Python 3 (ipykernel)",
   "language": "python",
   "name": "python3"
  },
  "language_info": {
   "codemirror_mode": {
    "name": "ipython",
    "version": 3
   },
   "file_extension": ".py",
   "mimetype": "text/x-python",
   "name": "python",
   "nbconvert_exporter": "python",
   "pygments_lexer": "ipython3",
   "version": "3.11.8"
  }
 },
 "nbformat": 4,
 "nbformat_minor": 5
}
